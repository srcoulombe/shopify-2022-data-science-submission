{
 "cells": [
  {
   "cell_type": "markdown",
   "id": "f3852467",
   "metadata": {},
   "source": [
    "# README\n",
    "\n",
    "This notebook contains the work carried out to answer Question 1 from Shopify's Summer 2022 Data Science Intern Challenge. \n",
    "\n",
    "**Question 1**\n",
    "> On Shopify, we have exactly 100 sneaker shops, and each of these shops sells only one model of shoe. We want to do some analysis of the average order value (AOV). When we look at orders data over a 30 day window, we naively calculate an AOV of $3145.13. Given that we know these shops are selling sneakers, a relatively affordable item, something seems wrong with our analysis. "
   ]
  },
  {
   "cell_type": "markdown",
   "id": "22126c7e",
   "metadata": {},
   "source": [
    "# Dependencies Block"
   ]
  },
  {
   "cell_type": "code",
   "execution_count": 1,
   "id": "fba89391",
   "metadata": {},
   "outputs": [],
   "source": [
    "# external dependencies\n",
    "import numpy as np\n",
    "import pandas as pd\n",
    "import seaborn as sns\n",
    "import matplotlib.pyplot as plt"
   ]
  },
  {
   "cell_type": "markdown",
   "id": "1198641c",
   "metadata": {},
   "source": [
    "# Loading the Dataset"
   ]
  },
  {
   "cell_type": "code",
   "execution_count": 2,
   "id": "2f7fa610",
   "metadata": {},
   "outputs": [
    {
     "data": {
      "text/html": [
       "<div>\n",
       "<style scoped>\n",
       "    .dataframe tbody tr th:only-of-type {\n",
       "        vertical-align: middle;\n",
       "    }\n",
       "\n",
       "    .dataframe tbody tr th {\n",
       "        vertical-align: top;\n",
       "    }\n",
       "\n",
       "    .dataframe thead th {\n",
       "        text-align: right;\n",
       "    }\n",
       "</style>\n",
       "<table border=\"1\" class=\"dataframe\">\n",
       "  <thead>\n",
       "    <tr style=\"text-align: right;\">\n",
       "      <th></th>\n",
       "      <th>order_id</th>\n",
       "      <th>shop_id</th>\n",
       "      <th>user_id</th>\n",
       "      <th>order_amount</th>\n",
       "      <th>total_items</th>\n",
       "      <th>payment_method</th>\n",
       "      <th>created_at</th>\n",
       "    </tr>\n",
       "  </thead>\n",
       "  <tbody>\n",
       "    <tr>\n",
       "      <th>0</th>\n",
       "      <td>1</td>\n",
       "      <td>53</td>\n",
       "      <td>746</td>\n",
       "      <td>224</td>\n",
       "      <td>2</td>\n",
       "      <td>cash</td>\n",
       "      <td>2017-03-13 12:36:56</td>\n",
       "    </tr>\n",
       "    <tr>\n",
       "      <th>1</th>\n",
       "      <td>2</td>\n",
       "      <td>92</td>\n",
       "      <td>925</td>\n",
       "      <td>90</td>\n",
       "      <td>1</td>\n",
       "      <td>cash</td>\n",
       "      <td>2017-03-03 17:38:52</td>\n",
       "    </tr>\n",
       "    <tr>\n",
       "      <th>2</th>\n",
       "      <td>3</td>\n",
       "      <td>44</td>\n",
       "      <td>861</td>\n",
       "      <td>144</td>\n",
       "      <td>1</td>\n",
       "      <td>cash</td>\n",
       "      <td>2017-03-14 4:23:56</td>\n",
       "    </tr>\n",
       "    <tr>\n",
       "      <th>3</th>\n",
       "      <td>4</td>\n",
       "      <td>18</td>\n",
       "      <td>935</td>\n",
       "      <td>156</td>\n",
       "      <td>1</td>\n",
       "      <td>credit_card</td>\n",
       "      <td>2017-03-26 12:43:37</td>\n",
       "    </tr>\n",
       "    <tr>\n",
       "      <th>4</th>\n",
       "      <td>5</td>\n",
       "      <td>18</td>\n",
       "      <td>883</td>\n",
       "      <td>156</td>\n",
       "      <td>1</td>\n",
       "      <td>credit_card</td>\n",
       "      <td>2017-03-01 4:35:11</td>\n",
       "    </tr>\n",
       "  </tbody>\n",
       "</table>\n",
       "</div>"
      ],
      "text/plain": [
       "   order_id  shop_id  user_id  order_amount  total_items payment_method  \\\n",
       "0         1       53      746           224            2           cash   \n",
       "1         2       92      925            90            1           cash   \n",
       "2         3       44      861           144            1           cash   \n",
       "3         4       18      935           156            1    credit_card   \n",
       "4         5       18      883           156            1    credit_card   \n",
       "\n",
       "            created_at  \n",
       "0  2017-03-13 12:36:56  \n",
       "1  2017-03-03 17:38:52  \n",
       "2   2017-03-14 4:23:56  \n",
       "3  2017-03-26 12:43:37  \n",
       "4   2017-03-01 4:35:11  "
      ]
     },
     "execution_count": 2,
     "metadata": {},
     "output_type": "execute_result"
    }
   ],
   "source": [
    "df = pd.read_csv(\"2019 Winter Data Science Intern Challenge Data Set - Sheet1.csv\")\n",
    "df.head()"
   ]
  },
  {
   "cell_type": "markdown",
   "id": "ed6107ec",
   "metadata": {},
   "source": [
    "# Exploratory Data Analysis (EDA) For Confirmation of Problem Statement\n",
    "The `df` DataFrame's `.describe()` method is a good starting point for any kind of EDA on numerical tabular data."
   ]
  },
  {
   "cell_type": "code",
   "execution_count": 3,
   "id": "91a9f719",
   "metadata": {},
   "outputs": [
    {
     "data": {
      "text/html": [
       "<div>\n",
       "<style scoped>\n",
       "    .dataframe tbody tr th:only-of-type {\n",
       "        vertical-align: middle;\n",
       "    }\n",
       "\n",
       "    .dataframe tbody tr th {\n",
       "        vertical-align: top;\n",
       "    }\n",
       "\n",
       "    .dataframe thead th {\n",
       "        text-align: right;\n",
       "    }\n",
       "</style>\n",
       "<table border=\"1\" class=\"dataframe\">\n",
       "  <thead>\n",
       "    <tr style=\"text-align: right;\">\n",
       "      <th></th>\n",
       "      <th>order_id</th>\n",
       "      <th>shop_id</th>\n",
       "      <th>user_id</th>\n",
       "      <th>order_amount</th>\n",
       "      <th>total_items</th>\n",
       "    </tr>\n",
       "  </thead>\n",
       "  <tbody>\n",
       "    <tr>\n",
       "      <th>count</th>\n",
       "      <td>5000.000000</td>\n",
       "      <td>5000.000000</td>\n",
       "      <td>5000.000000</td>\n",
       "      <td>5000.000000</td>\n",
       "      <td>5000.00000</td>\n",
       "    </tr>\n",
       "    <tr>\n",
       "      <th>mean</th>\n",
       "      <td>2500.500000</td>\n",
       "      <td>50.078800</td>\n",
       "      <td>849.092400</td>\n",
       "      <td>3145.128000</td>\n",
       "      <td>8.78720</td>\n",
       "    </tr>\n",
       "    <tr>\n",
       "      <th>std</th>\n",
       "      <td>1443.520003</td>\n",
       "      <td>29.006118</td>\n",
       "      <td>87.798982</td>\n",
       "      <td>41282.539349</td>\n",
       "      <td>116.32032</td>\n",
       "    </tr>\n",
       "    <tr>\n",
       "      <th>min</th>\n",
       "      <td>1.000000</td>\n",
       "      <td>1.000000</td>\n",
       "      <td>607.000000</td>\n",
       "      <td>90.000000</td>\n",
       "      <td>1.00000</td>\n",
       "    </tr>\n",
       "    <tr>\n",
       "      <th>25%</th>\n",
       "      <td>1250.750000</td>\n",
       "      <td>24.000000</td>\n",
       "      <td>775.000000</td>\n",
       "      <td>163.000000</td>\n",
       "      <td>1.00000</td>\n",
       "    </tr>\n",
       "    <tr>\n",
       "      <th>50%</th>\n",
       "      <td>2500.500000</td>\n",
       "      <td>50.000000</td>\n",
       "      <td>849.000000</td>\n",
       "      <td>284.000000</td>\n",
       "      <td>2.00000</td>\n",
       "    </tr>\n",
       "    <tr>\n",
       "      <th>75%</th>\n",
       "      <td>3750.250000</td>\n",
       "      <td>75.000000</td>\n",
       "      <td>925.000000</td>\n",
       "      <td>390.000000</td>\n",
       "      <td>3.00000</td>\n",
       "    </tr>\n",
       "    <tr>\n",
       "      <th>max</th>\n",
       "      <td>5000.000000</td>\n",
       "      <td>100.000000</td>\n",
       "      <td>999.000000</td>\n",
       "      <td>704000.000000</td>\n",
       "      <td>2000.00000</td>\n",
       "    </tr>\n",
       "  </tbody>\n",
       "</table>\n",
       "</div>"
      ],
      "text/plain": [
       "          order_id      shop_id      user_id   order_amount  total_items\n",
       "count  5000.000000  5000.000000  5000.000000    5000.000000   5000.00000\n",
       "mean   2500.500000    50.078800   849.092400    3145.128000      8.78720\n",
       "std    1443.520003    29.006118    87.798982   41282.539349    116.32032\n",
       "min       1.000000     1.000000   607.000000      90.000000      1.00000\n",
       "25%    1250.750000    24.000000   775.000000     163.000000      1.00000\n",
       "50%    2500.500000    50.000000   849.000000     284.000000      2.00000\n",
       "75%    3750.250000    75.000000   925.000000     390.000000      3.00000\n",
       "max    5000.000000   100.000000   999.000000  704000.000000   2000.00000"
      ]
     },
     "execution_count": 3,
     "metadata": {},
     "output_type": "execute_result"
    }
   ],
   "source": [
    "df.describe()"
   ]
  },
  {
   "cell_type": "markdown",
   "id": "e117aa62",
   "metadata": {},
   "source": [
    "Indeed, we can see the same amount cited in the problem statement: an average order value of `$3145.13`. \n",
    "\n",
    "We'll take note of the median of the entire dataset (`$284.00`).\n",
    "\n",
    "We'll also take the time to check that we are looking at a 30-day window:"
   ]
  },
  {
   "cell_type": "code",
   "execution_count": 4,
   "id": "43ded123",
   "metadata": {},
   "outputs": [
    {
     "data": {
      "text/plain": [
       "(Timestamp('2017-03-30 23:55:35'),\n",
       " Timestamp('2017-03-01 00:08:09'),\n",
       " Timedelta('29 days 23:47:26'))"
      ]
     },
     "execution_count": 4,
     "metadata": {},
     "output_type": "execute_result"
    }
   ],
   "source": [
    "pd.to_datetime(df.created_at).max(), \\\n",
    "pd.to_datetime(df.created_at).min(), \\\n",
    "pd.to_datetime(df.created_at).max() - pd.to_datetime(df.created_at).min()"
   ]
  },
  {
   "cell_type": "markdown",
   "id": "25d2f09e",
   "metadata": {},
   "source": [
    "And do some extra sanity-checks:"
   ]
  },
  {
   "cell_type": "code",
   "execution_count": 5,
   "id": "0d1fdc24",
   "metadata": {},
   "outputs": [],
   "source": [
    "assert df.order_amount.min() > 0\n",
    "assert not df.order_id.duplicated().any()"
   ]
  },
  {
   "cell_type": "markdown",
   "id": "d1517dbd",
   "metadata": {},
   "source": [
    "All right! Sanity-checks passed!"
   ]
  },
  {
   "cell_type": "markdown",
   "id": "e833c7c1",
   "metadata": {},
   "source": [
    "## Supplementary EDA\n",
    "\n",
    "We'll set `order_id`, `shop_id`, and `user_id` aside for now and look at the distribution of the `order_amount` values.\n",
    "\n",
    "The output of `df.describe()` already raised some questions; the `min`, `25%` (25th percentile), `50%` (50th percentile, the median), and  `75%` (75th percentile) values seem reasonable, but the `mean`, `max`, and `std` (standard deviation) values are orders of magnitude larger! \n",
    "\n",
    "Quickly plotting a boxplot for the `order_amount` values confirms that there are outliers in this Series:"
   ]
  },
  {
   "cell_type": "code",
   "execution_count": 6,
   "id": "8e8497f7",
   "metadata": {},
   "outputs": [
    {
     "data": {
      "text/plain": [
       "Text(0.5, 0.98, 'Distribution of order_amount values')"
      ]
     },
     "execution_count": 6,
     "metadata": {},
     "output_type": "execute_result"
    },
    {
     "data": {
      "image/png": "[encoded data removed]",
      "text/plain": [
       "<Figure size 432x288 with 1 Axes>"
      ]
     },
     "metadata": {
      "needs_background": "light"
     },
     "output_type": "display_data"
    }
   ],
   "source": [
    "sns.boxplot(df.order_amount)\n",
    "plt.suptitle(\"Distribution of order_amount values\")"
   ]
  },
  {
   "cell_type": "markdown",
   "id": "acb6d1c4",
   "metadata": {},
   "source": [
    "OK! So not only are there a handful of outliers, but one `order_amount` value sticks way out from the rest! These outliers definitely biased the naive AOV calculation upwards, and we'll need to handle them carefully to get an AOV that better represents the typical value of an order.\n",
    "\n",
    "## Methodology\n",
    "We'll proceed through the following steps:\n",
    "\n",
    "1. Defining and identifying outliers\n",
    "2. Investigating the `order_amount` distribution without outliers\n",
    "3. Inquiring into the outliers\n",
    "\n",
    "This is pretty straightforward and linear, so we'll tackle points 1. and 2. first. Since our dataset is so heavily skewed, the z-score approach to identifying outliers is not appropriate. We'll rely on the Interquartie Range (IQR)  method in which an outlier is any data point that lies outside the `[25th quantile - 1.5 * IQR, 75th quantile + 1.5 * IQR]` range.\n",
    "\n",
    "First let's find the span of the IQR."
   ]
  },
  {
   "cell_type": "code",
   "execution_count": 7,
   "id": "d70aca42",
   "metadata": {},
   "outputs": [
    {
     "data": {
      "text/plain": [
       "(-177.5, 730.5, 227.0)"
      ]
     },
     "execution_count": 7,
     "metadata": {},
     "output_type": "execute_result"
    }
   ],
   "source": [
    "IQR = df['order_amount'].quantile(0.75) - df['order_amount'].quantile(0.25)\n",
    "df['order_amount'].quantile(0.25) - 1.5 * IQR, \\\n",
    "df['order_amount'].quantile(0.75) + 1.5 * IQR, \\\n",
    "IQR"
   ]
  },
  {
   "cell_type": "markdown",
   "id": "b2f55325",
   "metadata": {},
   "source": [
    "We'll then label the orders with `order_amount` values outside the `[25th quantile - 1.5 * IQR, 75th quantile + 1.5 * IQR]` as outliers.\n",
    "\n",
    "Take note the negation operator."
   ]
  },
  {
   "cell_type": "code",
   "execution_count": 8,
   "id": "24c16ed2",
   "metadata": {},
   "outputs": [
    {
     "data": {
      "text/plain": [
       "141"
      ]
     },
     "execution_count": 8,
     "metadata": {},
     "output_type": "execute_result"
    }
   ],
   "source": [
    "df['is_outlier'] = ~ df['order_amount'].between(\n",
    "    df['order_amount'].quantile(0.25) - 1.5 * IQR,\n",
    "    df['order_amount'].quantile(0.75) + 1.5 * IQR\n",
    ")\n",
    "df['is_outlier'].sum()"
   ]
  },
  {
   "cell_type": "markdown",
   "id": "4aeccfce",
   "metadata": {},
   "source": [
    "So we identified 141 outliers. Let's see what the `order_amount` operation looks like without them."
   ]
  },
  {
   "cell_type": "code",
   "execution_count": 9,
   "id": "6c245c4d",
   "metadata": {},
   "outputs": [
    {
     "data": {
      "text/plain": [
       "Text(0.5, 0.98, 'Box-and-whiskers plot for dataset after excluding outliers')"
      ]
     },
     "execution_count": 9,
     "metadata": {},
     "output_type": "execute_result"
    },
    {
     "data": {
      "image/png": "[encoded data removed]",
      "text/plain": [
       "<Figure size 432x288 with 1 Axes>"
      ]
     },
     "metadata": {
      "needs_background": "light"
     },
     "output_type": "display_data"
    }
   ],
   "source": [
    "sns.boxplot(df.order_amount[~df.is_outlier.values])\n",
    "plt.suptitle(\"Box-and-whiskers plot for dataset after excluding outliers\")"
   ]
  },
  {
   "cell_type": "code",
   "execution_count": 10,
   "id": "7bf44129",
   "metadata": {},
   "outputs": [
    {
     "data": {
      "text/plain": [
       "Text(0.5, 0.98, 'Box-and-whiskers plot for dataset after excluding outliers')"
      ]
     },
     "execution_count": 10,
     "metadata": {},
     "output_type": "execute_result"
    },
    {
     "data": {
      "image/png": "[encoded data removed]",
      "text/plain": [
       "<Figure size 432x288 with 1 Axes>"
      ]
     },
     "metadata": {
      "needs_background": "light"
     },
     "output_type": "display_data"
    }
   ],
   "source": [
    "sns.boxplot(df.order_amount[~df.is_outlier.values])\n",
    "plt.suptitle(\"Box-and-whiskers plot for dataset after excluding outliers\")"
   ]
  },
  {
   "cell_type": "code",
   "execution_count": 11,
   "id": "e146a54d",
   "metadata": {},
   "outputs": [
    {
     "data": {
      "text/plain": [
       "count    4859.000000\n",
       "mean      293.715374\n",
       "std       144.453395\n",
       "min        90.000000\n",
       "25%       162.000000\n",
       "50%       280.000000\n",
       "75%       380.000000\n",
       "max       730.000000\n",
       "Name: order_amount, dtype: float64"
      ]
     },
     "execution_count": 11,
     "metadata": {},
     "output_type": "execute_result"
    }
   ],
   "source": [
    "df.order_amount[~df.is_outlier.values].describe()"
   ]
  },
  {
   "cell_type": "markdown",
   "id": "f2606c88",
   "metadata": {},
   "source": [
    "That distribution seems much more reasonable. The mean (293.72) and median (280.00) are fairly close, and the standard deviation is much less shocking than it was before. \n",
    "\n",
    "But let's look into the outliers we identified before jumping to any conclusions."
   ]
  },
  {
   "cell_type": "markdown",
   "id": "c6ed896c",
   "metadata": {},
   "source": [
    "## Looking Into Outliers\n",
    "\n",
    "Using the `.describe()` method to quickly summarize the 141 outliers revealed that the smallest outlier (`min = 735.00`) was larger than the largest value in the truncated `order_amount` distribution (`max = 730.00`). So the outliers we've identified strictly represent orders with abnormally large prices. "
   ]
  },
  {
   "cell_type": "code",
   "execution_count": 12,
   "id": "8e08c10e",
   "metadata": {},
   "outputs": [
    {
     "data": {
      "text/plain": [
       "count       141.000000\n",
       "mean     101407.638298\n",
       "std      225491.524131\n",
       "min         735.000000\n",
       "25%         786.000000\n",
       "50%        1056.000000\n",
       "75%       51450.000000\n",
       "max      704000.000000\n",
       "Name: order_amount, dtype: float64"
      ]
     },
     "execution_count": 12,
     "metadata": {},
     "output_type": "execute_result"
    }
   ],
   "source": [
    "df.order_amount[df.is_outlier.values].describe()"
   ]
  },
  {
   "cell_type": "markdown",
   "id": "f7ccc1ff",
   "metadata": {},
   "source": [
    "Visualizing these outliers' distribution is not super informative because they span multiple orders of magnitude."
   ]
  },
  {
   "cell_type": "code",
   "execution_count": 13,
   "id": "59b2332b",
   "metadata": {},
   "outputs": [
    {
     "data": {
      "text/plain": [
       "Text(0.5, 0.98, 'Distribution of 141 Outliers')"
      ]
     },
     "execution_count": 13,
     "metadata": {},
     "output_type": "execute_result"
    },
    {
     "data": {
      "image/png": "[encoded data removed]",
      "text/plain": [
       "<Figure size 432x288 with 1 Axes>"
      ]
     },
     "metadata": {
      "needs_background": "light"
     },
     "output_type": "display_data"
    }
   ],
   "source": [
    "sns.stripplot(\n",
    "    df.order_amount[df.is_outlier.values].values, \n",
    "    alpha=0.25\n",
    ")\n",
    "plt.xlabel(\"order_amount (in $)\")\n",
    "plt.suptitle(\"Distribution of 141 Outliers\")"
   ]
  },
  {
   "cell_type": "markdown",
   "id": "f9ff8e7d",
   "metadata": {},
   "source": [
    "So we'll transform the outliers' `order_amount` values by taking their natural logarithm (after adding a +1 to handle 0s). We'll also plot the `[25th quantile - 1.5 * IQR, 75th quantile + 1.5 * IQR]` span we used to identify outliers (just to provide additional context).\n",
    "\n",
    "**NOTE:** Since the `[25th quantile - IQR, 75th quantile + IQR]` range dipped into negative values and we're using a logarithmic x-axis, we'll need to truncate the shaded region to instead cover `[max(0, 25th quantile - 1.5*IQR), 75th quantile + 1.5*IQR]` range. Since all outliers were > 0, this won't affect the interpretation of the plot."
   ]
  },
  {
   "cell_type": "code",
   "execution_count": 14,
   "id": "c6eba38d",
   "metadata": {},
   "outputs": [
    {
     "data": {
      "image/png": "[encoded data removed]",
      "text/plain": [
       "<Figure size 432x288 with 1 Axes>"
      ]
     },
     "metadata": {
      "needs_background": "light"
     },
     "output_type": "display_data"
    }
   ],
   "source": [
    "fig, ax = plt.subplots()\n",
    "ax.axvspan(\n",
    "    np.log1p(max(df['order_amount'].quantile(0.25) - 1.5*IQR, 0)), \n",
    "    np.log1p(df['order_amount'].quantile(0.75) + 1.5*IQR),\n",
    "    alpha=0.5,\n",
    "    color='green',\n",
    "    label=\"IQR Fence\"\n",
    ")\n",
    "sns.stripplot(\n",
    "    np.log1p(df.order_amount[df.is_outlier.values].values),\n",
    "    ax=ax,\n",
    "    label=\"Outliers\",\n",
    "    alpha=0.25\n",
    ")\n",
    "sns.stripplot(\n",
    "    np.log1p(df.order_amount[~df.is_outlier.values].values),\n",
    "    ax=ax,\n",
    "    label=\"Non Outliers\",\n",
    "    alpha=0.25,\n",
    "    color='green'\n",
    ")\n",
    "\n",
    "plt.legend()\n",
    "plt.xlabel(\"Ln(1+order_amount)\")\n",
    "plt.suptitle(\"(Transformed) Distribution of points, outliers, and span of the IQR fence\")\n",
    "plt.tight_layout()"
   ]
  },
  {
   "cell_type": "markdown",
   "id": "3b532f65",
   "metadata": {},
   "source": [
    "## Conclusions\n",
    "Exploring the dataset revealed that the `order_amount` values were heavily skewed to the right. This was caused by the presence of outliers, and failing to account for thhem resulted in an AOV value that – while technically correct – clearly did not provide the insight that an AOV value is meant to convey. \n",
    "\n",
    "Identifying and excluding these outliers from the dataset would mitigate their impact on the AOV. I chose to do so by using the Interquartile Range (IQR) approach, and identified 141 outliers. The distribution of the remaining 4,859 data points (~97.18% of the original dataset) had a mean, median, and standard deviation of 293.72, 272.00, and 144.45. The fact that the truncated mean (293.72) is close to the truncated median (272.00) and also to the median of the entire dataset (284.00) provides additional support to the claim that the value of interest is in the correct ballpark.\n",
    "\n",
    "Finally, I would be comfortable using any of the median (`$284.00`), truncated median (`$272.00`), or truncated mean (`$293.72`) as the metric to describe the \"typical\" `order_amount` value. "
   ]
  }
 ],
 "metadata": {
  "kernelspec": {
   "display_name": "Python 3 (ipykernel)",
   "language": "python",
   "name": "python3"
  },
  "language_info": {
   "codemirror_mode": {
    "name": "ipython",
    "version": 3
   },
   "file_extension": ".py",
   "mimetype": "text/x-python",
   "name": "python",
   "nbconvert_exporter": "python",
   "pygments_lexer": "ipython3",
   "version": "3.8.10"
  }
 },
 "nbformat": 4,
 "nbformat_minor": 5
}
